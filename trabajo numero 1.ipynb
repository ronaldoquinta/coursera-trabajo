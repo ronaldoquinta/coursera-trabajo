{
 "cells": [
  {
   "cell_type": "markdown",
   "metadata": {},
   "source": [
    "<center>\n",
    "    <img src=\"https://cf-courses-data.s3.us.cloud-object-storage.appdomain.cloud/IBMDeveloperSkillsNetwork-DS0105EN-SkillsNetwork/labs/Module2/images/SN_web_lightmode.png\" width=\"300\" alt=\"cognitiveclass.ai logo\">\n",
    "</center>\n"
   ]
  },
  {
   "cell_type": "markdown",
   "metadata": {},
   "source": [
    "# My First Work in Coursera\n"
   ]
  },
  {
   "cell_type": "markdown",
   "metadata": {},
   "source": [
    "## Introduction\n",
    "\n",
    "In this notebook, I will demonstrate basic data science concepts using Markdown and Python code cells. This is part of my final assignment for the Coursera course on Data Science Tools.\n"
   ]
  },
  {
   "cell_type": "markdown",
   "metadata": {},
   "source": [
    "## Data Science Languages\n",
    "\n",
    "Some of the popular languages used in Data Science are:\n",
    "\n",
    "- Python  \n",
    "- R  \n",
    "- SQL  \n",
    "- Julia  \n",
    "- Scala  \n",
    "- Java  \n",
    "- C++  \n"
   ]
  },
  {
   "cell_type": "markdown",
   "metadata": {},
   "source": [
    "## Data Science Libraries\n",
    "\n",
    "Here are some commonly used libraries in Data Science:\n",
    "\n",
    "- **Pandas** – for data manipulation and analysis  \n",
    "- **NumPy** – for numerical computing  \n",
    "- **Matplotlib** – for data visualization  \n",
    "- **Seaborn** – for statistical graphics  \n",
    "- **Scikit-learn** – for machine learning  \n",
    "- **TensorFlow** – for deep learning  \n",
    "- **ggplot2** – for data visualization in R  \n"
   ]
  },
  {
   "cell_type": "markdown",
   "metadata": {},
   "source": [
    "## Data Science Tools\n",
    "\n",
    "| Tool              | Category            | Description                             |\n",
    "|-------------------|---------------------|-----------------------------------------|\n",
    "| Jupyter Notebook  | Notebook Environment| Interactive computing                   |\n",
    "| RStudio           | IDE                 | Development environment for R           |\n",
    "| Apache Spark      | Big Data Processing | Distributed computing framework         |\n",
    "| TensorFlow        | Machine Learning    | Deep learning library                   |\n",
    "| Power BI          | Visualization       | Business analytics and visualization    |\n"
   ]
  },
  {
   "cell_type": "markdown",
   "metadata": {},
   "source": [
    "## Arithmetic Expression Examples\n",
    "\n",
    "In this section, I will show some basic arithmetic expressions such as addition and multiplication.\n",
    "These are useful operations in any data science task involving numbers.\n"
   ]
  },
  {
   "cell_type": "code",
   "execution_count": 4,
   "metadata": {},
   "outputs": [
    {
     "name": "stdout",
     "output_type": "stream",
     "text": [
      "The result is: 23\n"
     ]
    }
   ],
   "source": [
    "# This expression multiplies 5 by 4 and then adds 3\n",
    "result = (5 * 4) + 3\n",
    "print(\"The result is:\", result)\n"
   ]
  },
  {
   "cell_type": "code",
   "execution_count": 3,
   "metadata": {},
   "outputs": [
    {
     "name": "stdout",
     "output_type": "stream",
     "text": [
      "150 minutes is equal to 2.5 hours\n"
     ]
    }
   ],
   "source": [
    "# Convert 150 minutes to hours\n",
    "minutes = 150\n",
    "hours = minutes / 60\n",
    "print(\"150 minutes is equal to\", hours, \"hours\")\n"
   ]
  },
  {
   "cell_type": "markdown",
   "metadata": {},
   "source": [
    "## Objectives\n",
    "\n",
    "- Understand the basics of Jupyter Notebooks\n",
    "- Learn Markdown formatting\n",
    "- Practice arithmetic expressions in Python\n",
    "- Share notebooks using GitHub\n"
   ]
  },
  {
   "cell_type": "markdown",
   "metadata": {},
   "source": [
    "## Author\n",
    "\n",
    "Ronaldo Anthony Quinta Soto\n"
   ]
  },
  {
   "cell_type": "code",
   "execution_count": null,
   "metadata": {},
   "outputs": [],
   "source": []
  }
 ],
 "metadata": {
  "kernelspec": {
   "display_name": "Python 3 (ipykernel)",
   "language": "python",
   "name": "python3"
  },
  "language_info": {
   "codemirror_mode": {
    "name": "ipython",
    "version": 3
   },
   "file_extension": ".py",
   "mimetype": "text/x-python",
   "name": "python",
   "nbconvert_exporter": "python",
   "pygments_lexer": "ipython3",
   "version": "3.12.8"
  }
 },
 "nbformat": 4,
 "nbformat_minor": 4
}
